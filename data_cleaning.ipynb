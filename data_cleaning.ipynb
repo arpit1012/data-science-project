{
  "nbformat": 4,
  "nbformat_minor": 0,
  "metadata": {
    "colab": {
      "name": "data_cleaning.ipynb",
      "provenance": [],
      "authorship_tag": "ABX9TyOKLgkQRn2BoXB74H8n4L74",
      "include_colab_link": true
    },
    "kernelspec": {
      "name": "python3",
      "display_name": "Python 3"
    }
  },
  "cells": [
    {
      "cell_type": "markdown",
      "metadata": {
        "id": "view-in-github",
        "colab_type": "text"
      },
      "source": [
        "<a href=\"https://colab.research.google.com/github/arpit1012/data-science-project/blob/main/data_cleaning.ipynb\" target=\"_parent\"><img src=\"https://colab.research.google.com/assets/colab-badge.svg\" alt=\"Open In Colab\"/></a>"
      ]
    },
    {
      "cell_type": "code",
      "metadata": {
        "id": "LcEPVGybSEgr"
      },
      "source": [
        "import pandas as pd\n"
      ],
      "execution_count": 20,
      "outputs": []
    },
    {
      "cell_type": "code",
      "metadata": {
        "id": "Jns1oPBt-mNz"
      },
      "source": [
        "df=pd.read_csv(\"glassdoor_jobs.csv\")"
      ],
      "execution_count": 21,
      "outputs": []
    },
    {
      "cell_type": "code",
      "metadata": {
        "id": "gUzVdrHe-rJp",
        "outputId": "42f6d7b2-36f7-482d-a924-687739dbfa80",
        "colab": {
          "base_uri": "https://localhost:8080/",
          "height": 501
        }
      },
      "source": [
        "df.head()\n"
      ],
      "execution_count": 22,
      "outputs": [
        {
          "output_type": "execute_result",
          "data": {
            "text/html": [
              "<div>\n",
              "<style scoped>\n",
              "    .dataframe tbody tr th:only-of-type {\n",
              "        vertical-align: middle;\n",
              "    }\n",
              "\n",
              "    .dataframe tbody tr th {\n",
              "        vertical-align: top;\n",
              "    }\n",
              "\n",
              "    .dataframe thead th {\n",
              "        text-align: right;\n",
              "    }\n",
              "</style>\n",
              "<table border=\"1\" class=\"dataframe\">\n",
              "  <thead>\n",
              "    <tr style=\"text-align: right;\">\n",
              "      <th></th>\n",
              "      <th>Unnamed: 0</th>\n",
              "      <th>Job Title</th>\n",
              "      <th>Salary Estimate</th>\n",
              "      <th>Job Description</th>\n",
              "      <th>Rating</th>\n",
              "      <th>Company Name</th>\n",
              "      <th>Location</th>\n",
              "      <th>Headquarters</th>\n",
              "      <th>Size</th>\n",
              "      <th>Founded</th>\n",
              "      <th>Type of ownership</th>\n",
              "      <th>Industry</th>\n",
              "      <th>Sector</th>\n",
              "      <th>Revenue</th>\n",
              "      <th>Competitors</th>\n",
              "    </tr>\n",
              "  </thead>\n",
              "  <tbody>\n",
              "    <tr>\n",
              "      <th>0</th>\n",
              "      <td>0</td>\n",
              "      <td>Data Scientist</td>\n",
              "      <td>$53K-$91K (Glassdoor est.)</td>\n",
              "      <td>Data Scientist\\r\\nLocation: Albuquerque, NM\\r\\...</td>\n",
              "      <td>3.8</td>\n",
              "      <td>Tecolote Research\\r\\n3.8</td>\n",
              "      <td>Albuquerque, NM</td>\n",
              "      <td>Goleta, CA</td>\n",
              "      <td>501 to 1000 employees</td>\n",
              "      <td>1973</td>\n",
              "      <td>Company - Private</td>\n",
              "      <td>Aerospace &amp; Defense</td>\n",
              "      <td>Aerospace &amp; Defense</td>\n",
              "      <td>$50 to $100 million (USD)</td>\n",
              "      <td>-1</td>\n",
              "    </tr>\n",
              "    <tr>\n",
              "      <th>1</th>\n",
              "      <td>1</td>\n",
              "      <td>Healthcare Data Scientist</td>\n",
              "      <td>$63K-$112K (Glassdoor est.)</td>\n",
              "      <td>What You Will Do:\\r\\n\\r\\nI. General Summary\\r\\...</td>\n",
              "      <td>3.4</td>\n",
              "      <td>University of Maryland Medical System\\r\\n3.4</td>\n",
              "      <td>Linthicum, MD</td>\n",
              "      <td>Baltimore, MD</td>\n",
              "      <td>10000+ employees</td>\n",
              "      <td>1984</td>\n",
              "      <td>Other Organization</td>\n",
              "      <td>Health Care Services &amp; Hospitals</td>\n",
              "      <td>Health Care</td>\n",
              "      <td>$2 to $5 billion (USD)</td>\n",
              "      <td>-1</td>\n",
              "    </tr>\n",
              "    <tr>\n",
              "      <th>2</th>\n",
              "      <td>2</td>\n",
              "      <td>Data Scientist</td>\n",
              "      <td>$80K-$90K (Glassdoor est.)</td>\n",
              "      <td>KnowBe4, Inc. is a high growth information sec...</td>\n",
              "      <td>4.8</td>\n",
              "      <td>KnowBe4\\r\\n4.8</td>\n",
              "      <td>Clearwater, FL</td>\n",
              "      <td>Clearwater, FL</td>\n",
              "      <td>501 to 1000 employees</td>\n",
              "      <td>2010</td>\n",
              "      <td>Company - Private</td>\n",
              "      <td>Security Services</td>\n",
              "      <td>Business Services</td>\n",
              "      <td>$100 to $500 million (USD)</td>\n",
              "      <td>-1</td>\n",
              "    </tr>\n",
              "    <tr>\n",
              "      <th>3</th>\n",
              "      <td>3</td>\n",
              "      <td>Data Scientist</td>\n",
              "      <td>$56K-$97K (Glassdoor est.)</td>\n",
              "      <td>*Organization and Job ID**\\r\\nJob ID: 310709\\r...</td>\n",
              "      <td>3.8</td>\n",
              "      <td>PNNL\\r\\n3.8</td>\n",
              "      <td>Richland, WA</td>\n",
              "      <td>Richland, WA</td>\n",
              "      <td>1001 to 5000 employees</td>\n",
              "      <td>1965</td>\n",
              "      <td>Government</td>\n",
              "      <td>Energy</td>\n",
              "      <td>Oil, Gas, Energy &amp; Utilities</td>\n",
              "      <td>$500 million to $1 billion (USD)</td>\n",
              "      <td>Oak Ridge National Laboratory, National Renewa...</td>\n",
              "    </tr>\n",
              "    <tr>\n",
              "      <th>4</th>\n",
              "      <td>4</td>\n",
              "      <td>Data Scientist</td>\n",
              "      <td>$86K-$143K (Glassdoor est.)</td>\n",
              "      <td>Data Scientist\\r\\nAffinity Solutions / Marketi...</td>\n",
              "      <td>2.9</td>\n",
              "      <td>Affinity Solutions\\r\\n2.9</td>\n",
              "      <td>New York, NY</td>\n",
              "      <td>New York, NY</td>\n",
              "      <td>51 to 200 employees</td>\n",
              "      <td>1998</td>\n",
              "      <td>Company - Private</td>\n",
              "      <td>Advertising &amp; Marketing</td>\n",
              "      <td>Business Services</td>\n",
              "      <td>Unknown / Non-Applicable</td>\n",
              "      <td>Commerce Signals, Cardlytics, Yodlee</td>\n",
              "    </tr>\n",
              "  </tbody>\n",
              "</table>\n",
              "</div>"
            ],
            "text/plain": [
              "   Unnamed: 0  ...                                        Competitors\n",
              "0           0  ...                                                 -1\n",
              "1           1  ...                                                 -1\n",
              "2           2  ...                                                 -1\n",
              "3           3  ...  Oak Ridge National Laboratory, National Renewa...\n",
              "4           4  ...               Commerce Signals, Cardlytics, Yodlee\n",
              "\n",
              "[5 rows x 15 columns]"
            ]
          },
          "metadata": {
            "tags": []
          },
          "execution_count": 22
        }
      ]
    },
    {
      "cell_type": "code",
      "metadata": {
        "id": "76ztszUsXh1R"
      },
      "source": [
        "df['hourly'] = df['Salary Estimate'].apply(lambda x: 1 if 'per hour' in x.lower() else 0)\n",
        "df['employer_provided'] = df['Salary Estimate'].apply(lambda x: 1 if 'employer provided salary:' in x.lower() else 0)"
      ],
      "execution_count": 23,
      "outputs": []
    },
    {
      "cell_type": "markdown",
      "metadata": {
        "id": "22r4PiIq_zNK"
      },
      "source": [
        "REMOVE THE DATA WHERE SALARY EQUAL TO -1"
      ]
    },
    {
      "cell_type": "code",
      "metadata": {
        "id": "JcXwilc9-sMg"
      },
      "source": [
        "df=df[df['Salary Estimate']!='-1']"
      ],
      "execution_count": 24,
      "outputs": []
    },
    {
      "cell_type": "code",
      "metadata": {
        "id": "Wk5QoCHlAECa",
        "outputId": "2000098d-62b2-4d85-fadb-e469e9e3eafa",
        "colab": {
          "base_uri": "https://localhost:8080/"
        }
      },
      "source": [
        "df.shape"
      ],
      "execution_count": 25,
      "outputs": [
        {
          "output_type": "execute_result",
          "data": {
            "text/plain": [
              "(742, 17)"
            ]
          },
          "metadata": {
            "tags": []
          },
          "execution_count": 25
        }
      ]
    },
    {
      "cell_type": "markdown",
      "metadata": {
        "id": "wX6kZqMlA5vf"
      },
      "source": [
        "Now i split data salary so that it contain only integer"
      ]
    },
    {
      "cell_type": "code",
      "metadata": {
        "id": "7k81no39AFE8"
      },
      "source": [
        "salary=df['Salary Estimate'].apply(lambda x: x.split('(')[0])"
      ],
      "execution_count": 26,
      "outputs": []
    },
    {
      "cell_type": "code",
      "metadata": {
        "id": "FHcxNjfSBPGv",
        "outputId": "fadb8f82-4aa1-486f-b996-abb6367f0ce1",
        "colab": {
          "base_uri": "https://localhost:8080/"
        }
      },
      "source": [
        "salary"
      ],
      "execution_count": 27,
      "outputs": [
        {
          "output_type": "execute_result",
          "data": {
            "text/plain": [
              "0       $53K-$91K \n",
              "1      $63K-$112K \n",
              "2       $80K-$90K \n",
              "3       $56K-$97K \n",
              "4      $86K-$143K \n",
              "          ...     \n",
              "950    $58K-$111K \n",
              "951    $72K-$133K \n",
              "952     $56K-$91K \n",
              "953    $95K-$160K \n",
              "955    $61K-$126K \n",
              "Name: Salary Estimate, Length: 742, dtype: object"
            ]
          },
          "metadata": {
            "tags": []
          },
          "execution_count": 27
        }
      ]
    },
    {
      "cell_type": "markdown",
      "metadata": {
        "id": "U9SxD57dBnY3"
      },
      "source": [
        "Remove dollar and k sign"
      ]
    },
    {
      "cell_type": "code",
      "metadata": {
        "id": "Km37FbBmBQN-"
      },
      "source": [
        "minus_kd= salary.apply(lambda x: x.replace('K','').replace(\"$\",\"\"))"
      ],
      "execution_count": 28,
      "outputs": []
    },
    {
      "cell_type": "code",
      "metadata": {
        "id": "CjTm3wyPB54t",
        "outputId": "95af670a-7803-4981-ad3f-9b2f13a7dc38",
        "colab": {
          "base_uri": "https://localhost:8080/"
        }
      },
      "source": [
        "minus_kd"
      ],
      "execution_count": 29,
      "outputs": [
        {
          "output_type": "execute_result",
          "data": {
            "text/plain": [
              "0       53-91 \n",
              "1      63-112 \n",
              "2       80-90 \n",
              "3       56-97 \n",
              "4      86-143 \n",
              "        ...   \n",
              "950    58-111 \n",
              "951    72-133 \n",
              "952     56-91 \n",
              "953    95-160 \n",
              "955    61-126 \n",
              "Name: Salary Estimate, Length: 742, dtype: object"
            ]
          },
          "metadata": {
            "tags": []
          },
          "execution_count": 29
        }
      ]
    },
    {
      "cell_type": "code",
      "metadata": {
        "id": "OcySBAhaB71u"
      },
      "source": [
        "min_hr = minus_kd.apply(lambda x: x.lower().replace('per hour','').replace('employer provided salary:',''))"
      ],
      "execution_count": 31,
      "outputs": []
    },
    {
      "cell_type": "code",
      "metadata": {
        "id": "7AooLMihXyT1"
      },
      "source": [
        "df['min_salary'] = min_hr.apply(lambda x: int(x.split('-')[0]))\n",
        "df['max_salary'] = min_hr.apply(lambda x: int(x.split('-')[1]))\n",
        "df['avg_salary'] = (df.min_salary+df.max_salary)/2"
      ],
      "execution_count": 32,
      "outputs": []
    },
    {
      "cell_type": "markdown",
      "metadata": {
        "id": "i-98DuSHYBFR"
      },
      "source": [
        "#Company name text only"
      ]
    },
    {
      "cell_type": "code",
      "metadata": {
        "id": "s3CTlcjAX-Dp"
      },
      "source": [
        "df['company_txt'] = df.apply(lambda x: x['Company Name'] if x['Rating'] <0 else x['Company Name'][:-3], axis = 1)"
      ],
      "execution_count": 33,
      "outputs": []
    },
    {
      "cell_type": "markdown",
      "metadata": {
        "id": "7tPABaLInDaP"
      },
      "source": [
        "\n",
        "#state field \n"
      ]
    },
    {
      "cell_type": "code",
      "metadata": {
        "id": "U0IG1sVnnNA0"
      },
      "source": [
        "df['job_state'] = df['Location'].apply(lambda x: x.split(',')[1])\n",
        "df.job_state.value_counts()\n",
        "\n",
        "df['same_state'] = df.apply(lambda x: 1 if x.Location == x.Headquarters else 0, axis = 1)"
      ],
      "execution_count": 34,
      "outputs": []
    },
    {
      "cell_type": "markdown",
      "metadata": {
        "id": "TyXUEGaYnXri"
      },
      "source": [
        "#age of company "
      ]
    },
    {
      "cell_type": "code",
      "metadata": {
        "id": "YQlAwc_mnRUd"
      },
      "source": [
        "df['age'] = df.Founded.apply(lambda x: x if x <1 else 2020 - x)"
      ],
      "execution_count": 35,
      "outputs": []
    },
    {
      "cell_type": "markdown",
      "metadata": {
        "id": "IuVbI9LVnkTj"
      },
      "source": [
        "##parsing of job description (python, etc.)\n",
        "\n",
        "\n"
      ]
    },
    {
      "cell_type": "code",
      "metadata": {
        "id": "AR_EoW8Knc_i"
      },
      "source": [
        "df['python_yn'] = df['Job Description'].apply(lambda x: 1 if 'python' in x.lower() else 0)"
      ],
      "execution_count": 36,
      "outputs": []
    },
    {
      "cell_type": "markdown",
      "metadata": {
        "id": "VS-AAdVsnvON"
      },
      "source": [
        "#r studio"
      ]
    },
    {
      "cell_type": "code",
      "metadata": {
        "id": "D9Mm4f7PnpV2",
        "outputId": "dc87b48b-bc24-40eb-ff1f-a3c695f2eccd",
        "colab": {
          "base_uri": "https://localhost:8080/"
        }
      },
      "source": [
        "df['R_yn'] = df['Job Description'].apply(lambda x: 1 if 'r studio' in x.lower() or 'r-studio' in x.lower() else 0)\n",
        "df.R_yn.value_counts()\n",
        "\n",
        "#spark \n",
        "df['spark'] = df['Job Description'].apply(lambda x: 1 if 'spark' in x.lower() else 0)\n",
        "df.spark.value_counts()\n",
        "\n",
        "#aws \n",
        "df['aws'] = df['Job Description'].apply(lambda x: 1 if 'aws' in x.lower() else 0)\n",
        "df.aws.value_counts()\n",
        "\n",
        "#excel\n",
        "df['excel'] = df['Job Description'].apply(lambda x: 1 if 'excel' in x.lower() else 0)\n",
        "df.excel.value_counts()"
      ],
      "execution_count": 37,
      "outputs": [
        {
          "output_type": "execute_result",
          "data": {
            "text/plain": [
              "1    388\n",
              "0    354\n",
              "Name: excel, dtype: int64"
            ]
          },
          "metadata": {
            "tags": []
          },
          "execution_count": 37
        }
      ]
    },
    {
      "cell_type": "code",
      "metadata": {
        "id": "-onT2IoMnzIC"
      },
      "source": [
        "df_out = df.drop(['Unnamed: 0'], axis =1)\n",
        "\n",
        "df_out.to_csv('salary_data_cleaned.csv',index = False)"
      ],
      "execution_count": 42,
      "outputs": []
    },
    {
      "cell_type": "code",
      "metadata": {
        "id": "arWrD4n4oA4t",
        "outputId": "5ff749d9-ab6d-4377-d40b-8731ec853af7",
        "colab": {
          "base_uri": "https://localhost:8080/",
          "height": 993
        }
      },
      "source": [
        "df"
      ],
      "execution_count": 43,
      "outputs": [
        {
          "output_type": "execute_result",
          "data": {
            "text/html": [
              "<div>\n",
              "<style scoped>\n",
              "    .dataframe tbody tr th:only-of-type {\n",
              "        vertical-align: middle;\n",
              "    }\n",
              "\n",
              "    .dataframe tbody tr th {\n",
              "        vertical-align: top;\n",
              "    }\n",
              "\n",
              "    .dataframe thead th {\n",
              "        text-align: right;\n",
              "    }\n",
              "</style>\n",
              "<table border=\"1\" class=\"dataframe\">\n",
              "  <thead>\n",
              "    <tr style=\"text-align: right;\">\n",
              "      <th></th>\n",
              "      <th>Unnamed: 0</th>\n",
              "      <th>Job Title</th>\n",
              "      <th>Salary Estimate</th>\n",
              "      <th>Job Description</th>\n",
              "      <th>Rating</th>\n",
              "      <th>Company Name</th>\n",
              "      <th>Location</th>\n",
              "      <th>Headquarters</th>\n",
              "      <th>Size</th>\n",
              "      <th>Founded</th>\n",
              "      <th>Type of ownership</th>\n",
              "      <th>Industry</th>\n",
              "      <th>Sector</th>\n",
              "      <th>Revenue</th>\n",
              "      <th>Competitors</th>\n",
              "      <th>hourly</th>\n",
              "      <th>employer_provided</th>\n",
              "      <th>min_salary</th>\n",
              "      <th>max_salary</th>\n",
              "      <th>avg_salary</th>\n",
              "      <th>company_txt</th>\n",
              "      <th>job_state</th>\n",
              "      <th>same_state</th>\n",
              "      <th>age</th>\n",
              "      <th>python_yn</th>\n",
              "      <th>R_yn</th>\n",
              "      <th>spark</th>\n",
              "      <th>aws</th>\n",
              "      <th>excel</th>\n",
              "    </tr>\n",
              "  </thead>\n",
              "  <tbody>\n",
              "    <tr>\n",
              "      <th>0</th>\n",
              "      <td>0</td>\n",
              "      <td>Data Scientist</td>\n",
              "      <td>$53K-$91K (Glassdoor est.)</td>\n",
              "      <td>Data Scientist\\r\\nLocation: Albuquerque, NM\\r\\...</td>\n",
              "      <td>3.8</td>\n",
              "      <td>Tecolote Research\\r\\n3.8</td>\n",
              "      <td>Albuquerque, NM</td>\n",
              "      <td>Goleta, CA</td>\n",
              "      <td>501 to 1000 employees</td>\n",
              "      <td>1973</td>\n",
              "      <td>Company - Private</td>\n",
              "      <td>Aerospace &amp; Defense</td>\n",
              "      <td>Aerospace &amp; Defense</td>\n",
              "      <td>$50 to $100 million (USD)</td>\n",
              "      <td>-1</td>\n",
              "      <td>0</td>\n",
              "      <td>0</td>\n",
              "      <td>53</td>\n",
              "      <td>91</td>\n",
              "      <td>72.0</td>\n",
              "      <td>Tecolote Research\\r\\n</td>\n",
              "      <td>NM</td>\n",
              "      <td>0</td>\n",
              "      <td>47</td>\n",
              "      <td>1</td>\n",
              "      <td>0</td>\n",
              "      <td>0</td>\n",
              "      <td>0</td>\n",
              "      <td>1</td>\n",
              "    </tr>\n",
              "    <tr>\n",
              "      <th>1</th>\n",
              "      <td>1</td>\n",
              "      <td>Healthcare Data Scientist</td>\n",
              "      <td>$63K-$112K (Glassdoor est.)</td>\n",
              "      <td>What You Will Do:\\r\\n\\r\\nI. General Summary\\r\\...</td>\n",
              "      <td>3.4</td>\n",
              "      <td>University of Maryland Medical System\\r\\n3.4</td>\n",
              "      <td>Linthicum, MD</td>\n",
              "      <td>Baltimore, MD</td>\n",
              "      <td>10000+ employees</td>\n",
              "      <td>1984</td>\n",
              "      <td>Other Organization</td>\n",
              "      <td>Health Care Services &amp; Hospitals</td>\n",
              "      <td>Health Care</td>\n",
              "      <td>$2 to $5 billion (USD)</td>\n",
              "      <td>-1</td>\n",
              "      <td>0</td>\n",
              "      <td>0</td>\n",
              "      <td>63</td>\n",
              "      <td>112</td>\n",
              "      <td>87.5</td>\n",
              "      <td>University of Maryland Medical System\\r\\n</td>\n",
              "      <td>MD</td>\n",
              "      <td>0</td>\n",
              "      <td>36</td>\n",
              "      <td>1</td>\n",
              "      <td>0</td>\n",
              "      <td>0</td>\n",
              "      <td>0</td>\n",
              "      <td>0</td>\n",
              "    </tr>\n",
              "    <tr>\n",
              "      <th>2</th>\n",
              "      <td>2</td>\n",
              "      <td>Data Scientist</td>\n",
              "      <td>$80K-$90K (Glassdoor est.)</td>\n",
              "      <td>KnowBe4, Inc. is a high growth information sec...</td>\n",
              "      <td>4.8</td>\n",
              "      <td>KnowBe4\\r\\n4.8</td>\n",
              "      <td>Clearwater, FL</td>\n",
              "      <td>Clearwater, FL</td>\n",
              "      <td>501 to 1000 employees</td>\n",
              "      <td>2010</td>\n",
              "      <td>Company - Private</td>\n",
              "      <td>Security Services</td>\n",
              "      <td>Business Services</td>\n",
              "      <td>$100 to $500 million (USD)</td>\n",
              "      <td>-1</td>\n",
              "      <td>0</td>\n",
              "      <td>0</td>\n",
              "      <td>80</td>\n",
              "      <td>90</td>\n",
              "      <td>85.0</td>\n",
              "      <td>KnowBe4\\r\\n</td>\n",
              "      <td>FL</td>\n",
              "      <td>1</td>\n",
              "      <td>10</td>\n",
              "      <td>1</td>\n",
              "      <td>0</td>\n",
              "      <td>1</td>\n",
              "      <td>0</td>\n",
              "      <td>1</td>\n",
              "    </tr>\n",
              "    <tr>\n",
              "      <th>3</th>\n",
              "      <td>3</td>\n",
              "      <td>Data Scientist</td>\n",
              "      <td>$56K-$97K (Glassdoor est.)</td>\n",
              "      <td>*Organization and Job ID**\\r\\nJob ID: 310709\\r...</td>\n",
              "      <td>3.8</td>\n",
              "      <td>PNNL\\r\\n3.8</td>\n",
              "      <td>Richland, WA</td>\n",
              "      <td>Richland, WA</td>\n",
              "      <td>1001 to 5000 employees</td>\n",
              "      <td>1965</td>\n",
              "      <td>Government</td>\n",
              "      <td>Energy</td>\n",
              "      <td>Oil, Gas, Energy &amp; Utilities</td>\n",
              "      <td>$500 million to $1 billion (USD)</td>\n",
              "      <td>Oak Ridge National Laboratory, National Renewa...</td>\n",
              "      <td>0</td>\n",
              "      <td>0</td>\n",
              "      <td>56</td>\n",
              "      <td>97</td>\n",
              "      <td>76.5</td>\n",
              "      <td>PNNL\\r\\n</td>\n",
              "      <td>WA</td>\n",
              "      <td>1</td>\n",
              "      <td>55</td>\n",
              "      <td>1</td>\n",
              "      <td>0</td>\n",
              "      <td>0</td>\n",
              "      <td>0</td>\n",
              "      <td>0</td>\n",
              "    </tr>\n",
              "    <tr>\n",
              "      <th>4</th>\n",
              "      <td>4</td>\n",
              "      <td>Data Scientist</td>\n",
              "      <td>$86K-$143K (Glassdoor est.)</td>\n",
              "      <td>Data Scientist\\r\\nAffinity Solutions / Marketi...</td>\n",
              "      <td>2.9</td>\n",
              "      <td>Affinity Solutions\\r\\n2.9</td>\n",
              "      <td>New York, NY</td>\n",
              "      <td>New York, NY</td>\n",
              "      <td>51 to 200 employees</td>\n",
              "      <td>1998</td>\n",
              "      <td>Company - Private</td>\n",
              "      <td>Advertising &amp; Marketing</td>\n",
              "      <td>Business Services</td>\n",
              "      <td>Unknown / Non-Applicable</td>\n",
              "      <td>Commerce Signals, Cardlytics, Yodlee</td>\n",
              "      <td>0</td>\n",
              "      <td>0</td>\n",
              "      <td>86</td>\n",
              "      <td>143</td>\n",
              "      <td>114.5</td>\n",
              "      <td>Affinity Solutions\\r\\n</td>\n",
              "      <td>NY</td>\n",
              "      <td>1</td>\n",
              "      <td>22</td>\n",
              "      <td>1</td>\n",
              "      <td>0</td>\n",
              "      <td>0</td>\n",
              "      <td>0</td>\n",
              "      <td>1</td>\n",
              "    </tr>\n",
              "    <tr>\n",
              "      <th>...</th>\n",
              "      <td>...</td>\n",
              "      <td>...</td>\n",
              "      <td>...</td>\n",
              "      <td>...</td>\n",
              "      <td>...</td>\n",
              "      <td>...</td>\n",
              "      <td>...</td>\n",
              "      <td>...</td>\n",
              "      <td>...</td>\n",
              "      <td>...</td>\n",
              "      <td>...</td>\n",
              "      <td>...</td>\n",
              "      <td>...</td>\n",
              "      <td>...</td>\n",
              "      <td>...</td>\n",
              "      <td>...</td>\n",
              "      <td>...</td>\n",
              "      <td>...</td>\n",
              "      <td>...</td>\n",
              "      <td>...</td>\n",
              "      <td>...</td>\n",
              "      <td>...</td>\n",
              "      <td>...</td>\n",
              "      <td>...</td>\n",
              "      <td>...</td>\n",
              "      <td>...</td>\n",
              "      <td>...</td>\n",
              "      <td>...</td>\n",
              "      <td>...</td>\n",
              "    </tr>\n",
              "    <tr>\n",
              "      <th>950</th>\n",
              "      <td>950</td>\n",
              "      <td>Sr Scientist, Immuno-Oncology - Oncology</td>\n",
              "      <td>$58K-$111K (Glassdoor est.)</td>\n",
              "      <td>Site Name: USA - Massachusetts - Cambridge\\r\\n...</td>\n",
              "      <td>3.9</td>\n",
              "      <td>GSK\\r\\n3.9</td>\n",
              "      <td>Cambridge, MA</td>\n",
              "      <td>Brentford, United Kingdom</td>\n",
              "      <td>10000+ employees</td>\n",
              "      <td>1830</td>\n",
              "      <td>Company - Public</td>\n",
              "      <td>Biotech &amp; Pharmaceuticals</td>\n",
              "      <td>Biotech &amp; Pharmaceuticals</td>\n",
              "      <td>$10+ billion (USD)</td>\n",
              "      <td>Pfizer, AstraZeneca, Merck</td>\n",
              "      <td>0</td>\n",
              "      <td>0</td>\n",
              "      <td>58</td>\n",
              "      <td>111</td>\n",
              "      <td>84.5</td>\n",
              "      <td>GSK\\r\\n</td>\n",
              "      <td>MA</td>\n",
              "      <td>0</td>\n",
              "      <td>190</td>\n",
              "      <td>0</td>\n",
              "      <td>0</td>\n",
              "      <td>0</td>\n",
              "      <td>1</td>\n",
              "      <td>0</td>\n",
              "    </tr>\n",
              "    <tr>\n",
              "      <th>951</th>\n",
              "      <td>951</td>\n",
              "      <td>Senior Data Engineer</td>\n",
              "      <td>$72K-$133K (Glassdoor est.)</td>\n",
              "      <td>THE CHALLENGE\\r\\nEventbrite has a world-class ...</td>\n",
              "      <td>4.4</td>\n",
              "      <td>Eventbrite\\r\\n4.4</td>\n",
              "      <td>Nashville, TN</td>\n",
              "      <td>San Francisco, CA</td>\n",
              "      <td>1001 to 5000 employees</td>\n",
              "      <td>2006</td>\n",
              "      <td>Company - Public</td>\n",
              "      <td>Internet</td>\n",
              "      <td>Information Technology</td>\n",
              "      <td>$100 to $500 million (USD)</td>\n",
              "      <td>See Tickets, TicketWeb, Vendini</td>\n",
              "      <td>0</td>\n",
              "      <td>0</td>\n",
              "      <td>72</td>\n",
              "      <td>133</td>\n",
              "      <td>102.5</td>\n",
              "      <td>Eventbrite\\r\\n</td>\n",
              "      <td>TN</td>\n",
              "      <td>0</td>\n",
              "      <td>14</td>\n",
              "      <td>1</td>\n",
              "      <td>0</td>\n",
              "      <td>1</td>\n",
              "      <td>1</td>\n",
              "      <td>0</td>\n",
              "    </tr>\n",
              "    <tr>\n",
              "      <th>952</th>\n",
              "      <td>952</td>\n",
              "      <td>Project Scientist - Auton Lab, Robotics Institute</td>\n",
              "      <td>$56K-$91K (Glassdoor est.)</td>\n",
              "      <td>The Auton Lab at Carnegie Mellon University is...</td>\n",
              "      <td>2.6</td>\n",
              "      <td>Software Engineering Institute\\r\\n2.6</td>\n",
              "      <td>Pittsburgh, PA</td>\n",
              "      <td>Pittsburgh, PA</td>\n",
              "      <td>501 to 1000 employees</td>\n",
              "      <td>1984</td>\n",
              "      <td>College / University</td>\n",
              "      <td>Colleges &amp; Universities</td>\n",
              "      <td>Education</td>\n",
              "      <td>Unknown / Non-Applicable</td>\n",
              "      <td>-1</td>\n",
              "      <td>0</td>\n",
              "      <td>0</td>\n",
              "      <td>56</td>\n",
              "      <td>91</td>\n",
              "      <td>73.5</td>\n",
              "      <td>Software Engineering Institute\\r\\n</td>\n",
              "      <td>PA</td>\n",
              "      <td>1</td>\n",
              "      <td>36</td>\n",
              "      <td>0</td>\n",
              "      <td>0</td>\n",
              "      <td>0</td>\n",
              "      <td>0</td>\n",
              "      <td>1</td>\n",
              "    </tr>\n",
              "    <tr>\n",
              "      <th>953</th>\n",
              "      <td>953</td>\n",
              "      <td>Data Science Manager</td>\n",
              "      <td>$95K-$160K (Glassdoor est.)</td>\n",
              "      <td>Data Science ManagerResponsibilities:\\r\\n\\r\\nO...</td>\n",
              "      <td>3.2</td>\n",
              "      <td>Numeric, LLC\\r\\n3.2</td>\n",
              "      <td>Allentown, PA</td>\n",
              "      <td>Chadds Ford, PA</td>\n",
              "      <td>1 to 50 employees</td>\n",
              "      <td>-1</td>\n",
              "      <td>Company - Private</td>\n",
              "      <td>Staffing &amp; Outsourcing</td>\n",
              "      <td>Business Services</td>\n",
              "      <td>$5 to $10 million (USD)</td>\n",
              "      <td>-1</td>\n",
              "      <td>0</td>\n",
              "      <td>0</td>\n",
              "      <td>95</td>\n",
              "      <td>160</td>\n",
              "      <td>127.5</td>\n",
              "      <td>Numeric, LLC\\r\\n</td>\n",
              "      <td>PA</td>\n",
              "      <td>0</td>\n",
              "      <td>-1</td>\n",
              "      <td>0</td>\n",
              "      <td>0</td>\n",
              "      <td>0</td>\n",
              "      <td>0</td>\n",
              "      <td>1</td>\n",
              "    </tr>\n",
              "    <tr>\n",
              "      <th>955</th>\n",
              "      <td>955</td>\n",
              "      <td>Research Scientist – Security and Privacy</td>\n",
              "      <td>$61K-$126K (Glassdoor est.)</td>\n",
              "      <td>Returning Candidate? Log back in to the Career...</td>\n",
              "      <td>3.6</td>\n",
              "      <td>Riverside Research Institute\\r\\n3.6</td>\n",
              "      <td>Beavercreek, OH</td>\n",
              "      <td>Arlington, VA</td>\n",
              "      <td>501 to 1000 employees</td>\n",
              "      <td>1967</td>\n",
              "      <td>Nonprofit Organization</td>\n",
              "      <td>Federal Agencies</td>\n",
              "      <td>Government</td>\n",
              "      <td>$50 to $100 million (USD)</td>\n",
              "      <td>-1</td>\n",
              "      <td>0</td>\n",
              "      <td>0</td>\n",
              "      <td>61</td>\n",
              "      <td>126</td>\n",
              "      <td>93.5</td>\n",
              "      <td>Riverside Research Institute\\r\\n</td>\n",
              "      <td>OH</td>\n",
              "      <td>0</td>\n",
              "      <td>53</td>\n",
              "      <td>1</td>\n",
              "      <td>0</td>\n",
              "      <td>0</td>\n",
              "      <td>0</td>\n",
              "      <td>0</td>\n",
              "    </tr>\n",
              "  </tbody>\n",
              "</table>\n",
              "<p>742 rows × 29 columns</p>\n",
              "</div>"
            ],
            "text/plain": [
              "     Unnamed: 0                                          Job Title  ... aws excel\n",
              "0             0                                     Data Scientist  ...   0     1\n",
              "1             1                          Healthcare Data Scientist  ...   0     0\n",
              "2             2                                     Data Scientist  ...   0     1\n",
              "3             3                                     Data Scientist  ...   0     0\n",
              "4             4                                     Data Scientist  ...   0     1\n",
              "..          ...                                                ...  ...  ..   ...\n",
              "950         950           Sr Scientist, Immuno-Oncology - Oncology  ...   1     0\n",
              "951         951                               Senior Data Engineer  ...   1     0\n",
              "952         952  Project Scientist - Auton Lab, Robotics Institute  ...   0     1\n",
              "953         953                               Data Science Manager  ...   0     1\n",
              "955         955          Research Scientist – Security and Privacy  ...   0     0\n",
              "\n",
              "[742 rows x 29 columns]"
            ]
          },
          "metadata": {
            "tags": []
          },
          "execution_count": 43
        }
      ]
    },
    {
      "cell_type": "code",
      "metadata": {
        "id": "bL3u63pkozwE"
      },
      "source": [
        ""
      ],
      "execution_count": null,
      "outputs": []
    }
  ]
}